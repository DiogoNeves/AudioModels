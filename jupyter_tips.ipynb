{
 "cells": [
  {
   "cell_type": "code",
   "execution_count": 1,
   "id": "c80b6b14-a0d0-4efe-a381-949cfdfccedd",
   "metadata": {},
   "outputs": [],
   "source": [
    "import collections\n",
    "from collections import namedtuple"
   ]
  },
  {
   "cell_type": "markdown",
   "id": "1c3501b4-771a-4f04-8acd-9e75be77fa67",
   "metadata": {},
   "source": [
    "**Imagine the following function was defined elsewhere**"
   ]
  },
  {
   "cell_type": "code",
   "execution_count": 2,
   "id": "afb0aed1-11bf-4930-b665-13af9143f586",
   "metadata": {},
   "outputs": [],
   "source": [
    "def badly_named_func(a, b):\n",
    "    return a ** b"
   ]
  },
  {
   "cell_type": "markdown",
   "id": "8129c762-4c7a-4e7f-91e4-8a0e0ea546da",
   "metadata": {},
   "source": [
    "### The important bit:"
   ]
  },
  {
   "cell_type": "code",
   "execution_count": 7,
   "id": "c4cff442-6cc0-4c79-80de-31a11f34eac0",
   "metadata": {},
   "outputs": [
    {
     "data": {
      "text/plain": [
       "\u001b[0;31mSignature:\u001b[0m \u001b[0mbadly_named_func\u001b[0m\u001b[0;34m(\u001b[0m\u001b[0ma\u001b[0m\u001b[0;34m,\u001b[0m \u001b[0mb\u001b[0m\u001b[0;34m)\u001b[0m\u001b[0;34m\u001b[0m\u001b[0;34m\u001b[0m\u001b[0m\n",
       "\u001b[0;31mDocstring:\u001b[0m <no docstring>\n",
       "\u001b[0;31mSource:\u001b[0m   \n",
       "\u001b[0;32mdef\u001b[0m \u001b[0mbadly_named_func\u001b[0m\u001b[0;34m(\u001b[0m\u001b[0ma\u001b[0m\u001b[0;34m,\u001b[0m \u001b[0mb\u001b[0m\u001b[0;34m)\u001b[0m\u001b[0;34m:\u001b[0m\u001b[0;34m\u001b[0m\n",
       "\u001b[0;34m\u001b[0m    \u001b[0;32mreturn\u001b[0m \u001b[0ma\u001b[0m \u001b[0;34m**\u001b[0m \u001b[0mb\u001b[0m\u001b[0;34m\u001b[0m\u001b[0;34m\u001b[0m\u001b[0m\n",
       "\u001b[0;31mFile:\u001b[0m      /tmp/ipykernel_241/243219241.py\n",
       "\u001b[0;31mType:\u001b[0m      function\n"
      ]
     },
     "metadata": {},
     "output_type": "display_data"
    }
   ],
   "source": [
    "??badly_named_func"
   ]
  },
  {
   "cell_type": "code",
   "execution_count": null,
   "id": "9f1a27cf-3b15-4b66-a2de-f99c2c1d6043",
   "metadata": {},
   "outputs": [],
   "source": []
  }
 ],
 "metadata": {
  "kernelspec": {
   "display_name": "Python 3 (ipykernel)",
   "language": "python",
   "name": "python3"
  },
  "language_info": {
   "codemirror_mode": {
    "name": "ipython",
    "version": 3
   },
   "file_extension": ".py",
   "mimetype": "text/x-python",
   "name": "python",
   "nbconvert_exporter": "python",
   "pygments_lexer": "ipython3",
   "version": "3.8.12"
  }
 },
 "nbformat": 4,
 "nbformat_minor": 5
}
