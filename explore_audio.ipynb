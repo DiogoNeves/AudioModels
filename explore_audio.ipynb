{
 "cells": [
  {
   "cell_type": "markdown",
   "id": "2015f54c-6df0-4a7c-9342-fd158ae77f5f",
   "metadata": {},
   "source": [
    "# Exploring how Fast Audio works"
   ]
  },
  {
   "cell_type": "markdown",
   "id": "da2589da-7ba0-4f0b-ae58-9bf59db19d6f",
   "metadata": {},
   "source": [
    "## Setup environment"
   ]
  },
  {
   "cell_type": "code",
   "execution_count": 7,
   "id": "4265cebd-0d0e-4fe2-8df8-b0e4fb53ed69",
   "metadata": {
    "collapsed": true,
    "jupyter": {
     "outputs_hidden": true
    },
    "tags": []
   },
   "outputs": [
    {
     "name": "stdout",
     "output_type": "stream",
     "text": [
      "Looking in indexes: https://pypi.org/simple, https://pypi.ngc.nvidia.com\n",
      "Requirement already satisfied: pip in /opt/conda/lib/python3.8/site-packages (21.2.4)\n",
      "Collecting pip\n",
      "  Downloading pip-22.1.2-py3-none-any.whl (2.1 MB)\n",
      "\u001b[K     |████████████████████████████████| 2.1 MB 19.6 MB/s eta 0:00:01\n",
      "\u001b[?25hInstalling collected packages: pip\n",
      "  Attempting uninstall: pip\n",
      "    Found existing installation: pip 21.2.4\n",
      "    Uninstalling pip-21.2.4:\n",
      "      Successfully uninstalled pip-21.2.4\n",
      "Successfully installed pip-22.1.2\n",
      "\u001b[33mWARNING: Running pip as the 'root' user can result in broken permissions and conflicting behaviour with the system package manager. It is recommended to use a virtual environment instead: https://pip.pypa.io/warnings/venv\u001b[0m\n",
      "Looking in indexes: https://pypi.org/simple, https://pypi.ngc.nvidia.com\n",
      "Requirement already satisfied: torch in /opt/conda/lib/python3.8/site-packages (1.8.1)\n",
      "Collecting torch\n",
      "  Downloading torch-1.11.0-cp38-cp38-manylinux1_x86_64.whl (750.6 MB)\n",
      "\u001b[2K     \u001b[90m━━━━━━━━━━━━━━━━━━━━━━━━━━━━━━━━━━━━━━\u001b[0m \u001b[32m750.6/750.6 MB\u001b[0m \u001b[31m17.3 MB/s\u001b[0m eta \u001b[36m0:00:00\u001b[0m00:01\u001b[0m00:01\u001b[0m\n",
      "\u001b[?25hRequirement already satisfied: fastaudio in /opt/conda/lib/python3.8/site-packages (1.0.2)\n",
      "Requirement already satisfied: typing-extensions in /opt/conda/lib/python3.8/site-packages (from torch) (4.0.1)\n",
      "Requirement already satisfied: colorednoise>=1.1 in /opt/conda/lib/python3.8/site-packages (from fastaudio) (2.0.0)\n",
      "Requirement already satisfied: fastcore==1.3.20 in /opt/conda/lib/python3.8/site-packages (from fastaudio) (1.3.20)\n",
      "Requirement already satisfied: IPython in /opt/conda/lib/python3.8/site-packages (from fastaudio) (8.0.1)\n",
      "Requirement already satisfied: fastai==2.3.1 in /opt/conda/lib/python3.8/site-packages (from fastaudio) (2.3.1)\n",
      "Requirement already satisfied: torchaudio<0.9,>=0.7 in /opt/conda/lib/python3.8/site-packages (from fastaudio) (0.8.1)\n",
      "Requirement already satisfied: librosa==0.8 in /opt/conda/lib/python3.8/site-packages (from fastaudio) (0.8.0)\n",
      "Requirement already satisfied: packaging in /opt/conda/lib/python3.8/site-packages (from fastai==2.3.1->fastaudio) (21.3)\n",
      "Requirement already satisfied: fastprogress>=0.2.4 in /opt/conda/lib/python3.8/site-packages (from fastai==2.3.1->fastaudio) (1.0.2)\n",
      "Requirement already satisfied: scikit-learn in /opt/conda/lib/python3.8/site-packages (from fastai==2.3.1->fastaudio) (0.24.0)\n",
      "Requirement already satisfied: requests in /opt/conda/lib/python3.8/site-packages (from fastai==2.3.1->fastaudio) (2.26.0)\n",
      "Requirement already satisfied: pyyaml in /opt/conda/lib/python3.8/site-packages (from fastai==2.3.1->fastaudio) (5.4.1)\n",
      "Requirement already satisfied: pillow>6.0.0 in /opt/conda/lib/python3.8/site-packages (from fastai==2.3.1->fastaudio) (9.0.0)\n",
      "Requirement already satisfied: torchvision>=0.8.2 in /opt/conda/lib/python3.8/site-packages (from fastai==2.3.1->fastaudio) (0.9.1)\n",
      "Requirement already satisfied: pip in /opt/conda/lib/python3.8/site-packages (from fastai==2.3.1->fastaudio) (22.1.2)\n",
      "Requirement already satisfied: scipy in /opt/conda/lib/python3.8/site-packages (from fastai==2.3.1->fastaudio) (1.6.3)\n",
      "Requirement already satisfied: matplotlib in /opt/conda/lib/python3.8/site-packages (from fastai==2.3.1->fastaudio) (3.5.1)\n",
      "Requirement already satisfied: pandas in /opt/conda/lib/python3.8/site-packages (from fastai==2.3.1->fastaudio) (1.3.5)\n",
      "Requirement already satisfied: spacy<4 in /opt/conda/lib/python3.8/site-packages (from fastai==2.3.1->fastaudio) (3.2.1)\n",
      "Requirement already satisfied: soundfile>=0.9.0 in /opt/conda/lib/python3.8/site-packages (from librosa==0.8->fastaudio) (0.10.3.post1)\n",
      "Requirement already satisfied: numpy>=1.15.0 in /opt/conda/lib/python3.8/site-packages (from librosa==0.8->fastaudio) (1.22.2)\n",
      "Requirement already satisfied: audioread>=2.0.0 in /opt/conda/lib/python3.8/site-packages (from librosa==0.8->fastaudio) (2.1.9)\n",
      "Requirement already satisfied: joblib>=0.14 in /opt/conda/lib/python3.8/site-packages (from librosa==0.8->fastaudio) (1.1.0)\n",
      "Requirement already satisfied: numba>=0.43.0 in /opt/conda/lib/python3.8/site-packages (from librosa==0.8->fastaudio) (0.53.1)\n",
      "Requirement already satisfied: decorator>=3.0.0 in /opt/conda/lib/python3.8/site-packages (from librosa==0.8->fastaudio) (5.1.1)\n",
      "Requirement already satisfied: pooch>=1.0 in /opt/conda/lib/python3.8/site-packages (from librosa==0.8->fastaudio) (1.6.0)\n",
      "Requirement already satisfied: resampy>=0.2.2 in /opt/conda/lib/python3.8/site-packages (from librosa==0.8->fastaudio) (0.2.2)\n",
      "Requirement already satisfied: backcall in /opt/conda/lib/python3.8/site-packages (from IPython->fastaudio) (0.2.0)\n",
      "Requirement already satisfied: pickleshare in /opt/conda/lib/python3.8/site-packages (from IPython->fastaudio) (0.7.5)\n",
      "Requirement already satisfied: stack-data in /opt/conda/lib/python3.8/site-packages (from IPython->fastaudio) (0.1.4)\n",
      "Requirement already satisfied: jedi>=0.16 in /opt/conda/lib/python3.8/site-packages (from IPython->fastaudio) (0.18.1)\n",
      "Requirement already satisfied: matplotlib-inline in /opt/conda/lib/python3.8/site-packages (from IPython->fastaudio) (0.1.3)\n",
      "Requirement already satisfied: black in /opt/conda/lib/python3.8/site-packages (from IPython->fastaudio) (22.1.0)\n",
      "Requirement already satisfied: pexpect>4.3 in /opt/conda/lib/python3.8/site-packages (from IPython->fastaudio) (4.8.0)\n",
      "Requirement already satisfied: traitlets>=5 in /opt/conda/lib/python3.8/site-packages (from IPython->fastaudio) (5.1.1)\n",
      "Requirement already satisfied: prompt-toolkit!=3.0.0,!=3.0.1,<3.1.0,>=2.0.0 in /opt/conda/lib/python3.8/site-packages (from IPython->fastaudio) (3.0.26)\n",
      "Requirement already satisfied: pygments in /opt/conda/lib/python3.8/site-packages (from IPython->fastaudio) (2.11.2)\n",
      "Requirement already satisfied: setuptools>=18.5 in /opt/conda/lib/python3.8/site-packages (from IPython->fastaudio) (59.5.0)\n",
      "Requirement already satisfied: parso<0.9.0,>=0.8.0 in /opt/conda/lib/python3.8/site-packages (from jedi>=0.16->IPython->fastaudio) (0.8.3)\n",
      "Requirement already satisfied: llvmlite<0.37,>=0.36.0rc1 in /opt/conda/lib/python3.8/site-packages (from numba>=0.43.0->librosa==0.8->fastaudio) (0.36.0)\n",
      "Requirement already satisfied: ptyprocess>=0.5 in /opt/conda/lib/python3.8/site-packages (from pexpect>4.3->IPython->fastaudio) (0.7.0)\n",
      "Requirement already satisfied: appdirs>=1.3.0 in /opt/conda/lib/python3.8/site-packages (from pooch>=1.0->librosa==0.8->fastaudio) (1.4.4)\n",
      "Requirement already satisfied: pyparsing!=3.0.5,>=2.0.2 in /opt/conda/lib/python3.8/site-packages (from packaging->fastai==2.3.1->fastaudio) (3.0.7)\n",
      "Requirement already satisfied: wcwidth in /opt/conda/lib/python3.8/site-packages (from prompt-toolkit!=3.0.0,!=3.0.1,<3.1.0,>=2.0.0->IPython->fastaudio) (0.2.5)\n",
      "Requirement already satisfied: certifi>=2017.4.17 in /opt/conda/lib/python3.8/site-packages (from requests->fastai==2.3.1->fastaudio) (2021.10.8)\n",
      "Requirement already satisfied: idna<4,>=2.5 in /opt/conda/lib/python3.8/site-packages (from requests->fastai==2.3.1->fastaudio) (3.1)\n",
      "Requirement already satisfied: urllib3<1.27,>=1.21.1 in /opt/conda/lib/python3.8/site-packages (from requests->fastai==2.3.1->fastaudio) (1.26.7)\n",
      "Requirement already satisfied: charset-normalizer~=2.0.0 in /opt/conda/lib/python3.8/site-packages (from requests->fastai==2.3.1->fastaudio) (2.0.9)\n",
      "Requirement already satisfied: six>=1.3 in /opt/conda/lib/python3.8/site-packages (from resampy>=0.2.2->librosa==0.8->fastaudio) (1.16.0)\n",
      "Requirement already satisfied: threadpoolctl>=2.0.0 in /opt/conda/lib/python3.8/site-packages (from scikit-learn->fastai==2.3.1->fastaudio) (3.1.0)\n",
      "Requirement already satisfied: cffi>=1.0 in /opt/conda/lib/python3.8/site-packages (from soundfile>=0.9.0->librosa==0.8->fastaudio) (1.15.0)\n",
      "Requirement already satisfied: pathy>=0.3.5 in /opt/conda/lib/python3.8/site-packages (from spacy<4->fastai==2.3.1->fastaudio) (0.6.1)\n",
      "Requirement already satisfied: wasabi<1.1.0,>=0.8.1 in /opt/conda/lib/python3.8/site-packages (from spacy<4->fastai==2.3.1->fastaudio) (0.9.0)\n",
      "Requirement already satisfied: catalogue<2.1.0,>=2.0.6 in /opt/conda/lib/python3.8/site-packages (from spacy<4->fastai==2.3.1->fastaudio) (2.0.6)\n",
      "Requirement already satisfied: preshed<3.1.0,>=3.0.2 in /opt/conda/lib/python3.8/site-packages (from spacy<4->fastai==2.3.1->fastaudio) (3.0.6)\n",
      "Requirement already satisfied: pydantic!=1.8,!=1.8.1,<1.9.0,>=1.7.4 in /opt/conda/lib/python3.8/site-packages (from spacy<4->fastai==2.3.1->fastaudio) (1.8.2)\n",
      "Requirement already satisfied: jinja2 in /opt/conda/lib/python3.8/site-packages (from spacy<4->fastai==2.3.1->fastaudio) (3.0.3)\n",
      "Requirement already satisfied: tqdm<5.0.0,>=4.38.0 in /opt/conda/lib/python3.8/site-packages (from spacy<4->fastai==2.3.1->fastaudio) (4.62.3)\n",
      "Requirement already satisfied: spacy-loggers<2.0.0,>=1.0.0 in /opt/conda/lib/python3.8/site-packages (from spacy<4->fastai==2.3.1->fastaudio) (1.0.1)\n",
      "Requirement already satisfied: typer<0.5.0,>=0.3.0 in /opt/conda/lib/python3.8/site-packages (from spacy<4->fastai==2.3.1->fastaudio) (0.4.0)\n",
      "Requirement already satisfied: langcodes<4.0.0,>=3.2.0 in /opt/conda/lib/python3.8/site-packages (from spacy<4->fastai==2.3.1->fastaudio) (3.3.0)\n",
      "Requirement already satisfied: blis<0.8.0,>=0.4.0 in /opt/conda/lib/python3.8/site-packages (from spacy<4->fastai==2.3.1->fastaudio) (0.7.5)\n",
      "Requirement already satisfied: cymem<2.1.0,>=2.0.2 in /opt/conda/lib/python3.8/site-packages (from spacy<4->fastai==2.3.1->fastaudio) (2.0.6)\n",
      "Requirement already satisfied: srsly<3.0.0,>=2.4.1 in /opt/conda/lib/python3.8/site-packages (from spacy<4->fastai==2.3.1->fastaudio) (2.4.2)\n",
      "Requirement already satisfied: thinc<8.1.0,>=8.0.12 in /opt/conda/lib/python3.8/site-packages (from spacy<4->fastai==2.3.1->fastaudio) (8.0.13)\n",
      "Requirement already satisfied: murmurhash<1.1.0,>=0.28.0 in /opt/conda/lib/python3.8/site-packages (from spacy<4->fastai==2.3.1->fastaudio) (1.0.6)\n",
      "Requirement already satisfied: spacy-legacy<3.1.0,>=3.0.8 in /opt/conda/lib/python3.8/site-packages (from spacy<4->fastai==2.3.1->fastaudio) (3.0.8)\n",
      "Requirement already satisfied: pathspec>=0.9.0 in /opt/conda/lib/python3.8/site-packages (from black->IPython->fastaudio) (0.9.0)\n",
      "Requirement already satisfied: platformdirs>=2 in /opt/conda/lib/python3.8/site-packages (from black->IPython->fastaudio) (2.4.1)\n",
      "Requirement already satisfied: click>=8.0.0 in /opt/conda/lib/python3.8/site-packages (from black->IPython->fastaudio) (8.0.3)\n",
      "Requirement already satisfied: tomli>=1.1.0 in /opt/conda/lib/python3.8/site-packages (from black->IPython->fastaudio) (2.0.1)\n",
      "Requirement already satisfied: mypy-extensions>=0.4.3 in /opt/conda/lib/python3.8/site-packages (from black->IPython->fastaudio) (0.4.3)\n",
      "Requirement already satisfied: fonttools>=4.22.0 in /opt/conda/lib/python3.8/site-packages (from matplotlib->fastai==2.3.1->fastaudio) (4.29.1)\n",
      "Requirement already satisfied: kiwisolver>=1.0.1 in /opt/conda/lib/python3.8/site-packages (from matplotlib->fastai==2.3.1->fastaudio) (1.3.2)\n",
      "Requirement already satisfied: python-dateutil>=2.7 in /opt/conda/lib/python3.8/site-packages (from matplotlib->fastai==2.3.1->fastaudio) (2.8.2)\n",
      "Requirement already satisfied: cycler>=0.10 in /opt/conda/lib/python3.8/site-packages (from matplotlib->fastai==2.3.1->fastaudio) (0.11.0)\n",
      "Requirement already satisfied: pytz>=2017.3 in /opt/conda/lib/python3.8/site-packages (from pandas->fastai==2.3.1->fastaudio) (2021.3)\n",
      "Requirement already satisfied: pure-eval in /opt/conda/lib/python3.8/site-packages (from stack-data->IPython->fastaudio) (0.2.2)\n",
      "Requirement already satisfied: executing in /opt/conda/lib/python3.8/site-packages (from stack-data->IPython->fastaudio) (0.8.2)\n",
      "Requirement already satisfied: asttokens in /opt/conda/lib/python3.8/site-packages (from stack-data->IPython->fastaudio) (2.0.5)\n",
      "Requirement already satisfied: pycparser in /opt/conda/lib/python3.8/site-packages (from cffi>=1.0->soundfile>=0.9.0->librosa==0.8->fastaudio) (2.21)\n",
      "Requirement already satisfied: smart-open<6.0.0,>=5.0.0 in /opt/conda/lib/python3.8/site-packages (from pathy>=0.3.5->spacy<4->fastai==2.3.1->fastaudio) (5.2.1)\n",
      "Requirement already satisfied: MarkupSafe>=2.0 in /opt/conda/lib/python3.8/site-packages (from jinja2->spacy<4->fastai==2.3.1->fastaudio) (2.0.1)\n",
      "\u001b[33mWARNING: Running pip as the 'root' user can result in broken permissions and conflicting behaviour with the system package manager. It is recommended to use a virtual environment instead: https://pip.pypa.io/warnings/venv\u001b[0m\u001b[33m\n",
      "\u001b[0m"
     ]
    }
   ],
   "source": [
    "!pip install --upgrade pip\n",
    "!pip install --upgrade torch fastaudio"
   ]
  },
  {
   "cell_type": "code",
   "execution_count": 1,
   "id": "e1b87df4-3ff5-4939-8cec-0b3b4478375c",
   "metadata": {
    "collapsed": true,
    "jupyter": {
     "outputs_hidden": true
    },
    "tags": []
   },
   "outputs": [
    {
     "name": "stdout",
     "output_type": "stream",
     "text": [
      "\n",
      "Usage:   \n",
      "  pip uninstall [options] <package> ...\n",
      "  pip uninstall [options] -r <requirements file> ...\n",
      "\n",
      "no such option: -Y\n",
      "Looking in indexes: https://pypi.org/simple, https://pypi.ngc.nvidia.com\n",
      "Requirement already satisfied: librosa==0.8 in /opt/conda/lib/python3.8/site-packages (0.8.0)\n",
      "Requirement already satisfied: joblib>=0.14 in /opt/conda/lib/python3.8/site-packages (from librosa==0.8) (1.1.0)\n",
      "Requirement already satisfied: numpy>=1.15.0 in /opt/conda/lib/python3.8/site-packages (from librosa==0.8) (1.22.2)\n",
      "Requirement already satisfied: decorator>=3.0.0 in /opt/conda/lib/python3.8/site-packages (from librosa==0.8) (5.1.1)\n",
      "Requirement already satisfied: resampy>=0.2.2 in /opt/conda/lib/python3.8/site-packages (from librosa==0.8) (0.2.2)\n",
      "Requirement already satisfied: pooch>=1.0 in /opt/conda/lib/python3.8/site-packages (from librosa==0.8) (1.6.0)\n",
      "Requirement already satisfied: audioread>=2.0.0 in /opt/conda/lib/python3.8/site-packages (from librosa==0.8) (2.1.9)\n",
      "Requirement already satisfied: soundfile>=0.9.0 in /opt/conda/lib/python3.8/site-packages (from librosa==0.8) (0.10.3.post1)\n",
      "Requirement already satisfied: scipy>=1.0.0 in /opt/conda/lib/python3.8/site-packages (from librosa==0.8) (1.6.3)\n",
      "Requirement already satisfied: scikit-learn!=0.19.0,>=0.14.0 in /opt/conda/lib/python3.8/site-packages (from librosa==0.8) (0.24.0)\n",
      "Requirement already satisfied: numba>=0.43.0 in /opt/conda/lib/python3.8/site-packages (from librosa==0.8) (0.53.1)\n",
      "Requirement already satisfied: llvmlite<0.37,>=0.36.0rc1 in /opt/conda/lib/python3.8/site-packages (from numba>=0.43.0->librosa==0.8) (0.36.0)\n",
      "Requirement already satisfied: setuptools in /opt/conda/lib/python3.8/site-packages (from numba>=0.43.0->librosa==0.8) (59.5.0)\n",
      "Requirement already satisfied: appdirs>=1.3.0 in /opt/conda/lib/python3.8/site-packages (from pooch>=1.0->librosa==0.8) (1.4.4)\n",
      "Requirement already satisfied: requests>=2.19.0 in /opt/conda/lib/python3.8/site-packages (from pooch>=1.0->librosa==0.8) (2.26.0)\n",
      "Requirement already satisfied: packaging>=20.0 in /opt/conda/lib/python3.8/site-packages (from pooch>=1.0->librosa==0.8) (21.3)\n",
      "Requirement already satisfied: six>=1.3 in /opt/conda/lib/python3.8/site-packages (from resampy>=0.2.2->librosa==0.8) (1.16.0)\n",
      "Requirement already satisfied: threadpoolctl>=2.0.0 in /opt/conda/lib/python3.8/site-packages (from scikit-learn!=0.19.0,>=0.14.0->librosa==0.8) (3.1.0)\n",
      "Requirement already satisfied: cffi>=1.0 in /opt/conda/lib/python3.8/site-packages (from soundfile>=0.9.0->librosa==0.8) (1.15.0)\n",
      "Requirement already satisfied: pycparser in /opt/conda/lib/python3.8/site-packages (from cffi>=1.0->soundfile>=0.9.0->librosa==0.8) (2.21)\n",
      "Requirement already satisfied: pyparsing!=3.0.5,>=2.0.2 in /opt/conda/lib/python3.8/site-packages (from packaging>=20.0->pooch>=1.0->librosa==0.8) (3.0.7)\n",
      "Requirement already satisfied: urllib3<1.27,>=1.21.1 in /opt/conda/lib/python3.8/site-packages (from requests>=2.19.0->pooch>=1.0->librosa==0.8) (1.26.7)\n",
      "Requirement already satisfied: certifi>=2017.4.17 in /opt/conda/lib/python3.8/site-packages (from requests>=2.19.0->pooch>=1.0->librosa==0.8) (2021.10.8)\n",
      "Requirement already satisfied: idna<4,>=2.5 in /opt/conda/lib/python3.8/site-packages (from requests>=2.19.0->pooch>=1.0->librosa==0.8) (3.1)\n",
      "Requirement already satisfied: charset-normalizer~=2.0.0 in /opt/conda/lib/python3.8/site-packages (from requests>=2.19.0->pooch>=1.0->librosa==0.8) (2.0.9)\n",
      "\u001b[33mWARNING: Running pip as the 'root' user can result in broken permissions and conflicting behaviour with the system package manager. It is recommended to use a virtual environment instead: https://pip.pypa.io/warnings/venv\u001b[0m\u001b[33m\n",
      "\u001b[0m"
     ]
    }
   ],
   "source": [
    "!pip uninstall -Y librosa\n",
    "!pip install --upgrade librosa==0.8"
   ]
  },
  {
   "cell_type": "code",
   "execution_count": 2,
   "id": "ccf958c9-dc68-45ef-930c-d9d46e882248",
   "metadata": {},
   "outputs": [
    {
     "name": "stderr",
     "output_type": "stream",
     "text": [
      "/opt/conda/lib/python3.8/site-packages/torchaudio/backend/utils.py:46: UserWarning: \"torchaudio.USE_SOUNDFILE_LEGACY_INTERFACE\" flag is deprecated and will be removed in 0.9.0. Please remove the use of flag.\n",
      "  warnings.warn(\n"
     ]
    }
   ],
   "source": [
    "from fastai.vision.all import *\n",
    "from fastaudio.core import *\n",
    "from fastaudio.augment import *"
   ]
  },
  {
   "cell_type": "markdown",
   "id": "76795350-9465-4c0d-89ff-75801df832f6",
   "metadata": {},
   "source": [
    "## Load Dataset"
   ]
  },
  {
   "cell_type": "code",
   "execution_count": 3,
   "id": "8c9422dc-5256-42f5-84a4-70ea66c73114",
   "metadata": {},
   "outputs": [],
   "source": [
    "def tar_extract_at_filename(filename, destination):\n",
    "    full_path = Path(destination)/Path(filename).with_suffix(\"\").name\n",
    "    tarfile.open(filename, \"r:gz\").extractall(full_path)"
   ]
  },
  {
   "cell_type": "code",
   "execution_count": 6,
   "id": "925dd5b4-94f9-48d4-b1ab-b4f9775ec4b1",
   "metadata": {},
   "outputs": [
    {
     "data": {
      "text/plain": [
       "\u001b[0;31mInit signature:\u001b[0m \u001b[0mURLs\u001b[0m\u001b[0;34m(\u001b[0m\u001b[0;34m)\u001b[0m\u001b[0;34m\u001b[0m\u001b[0;34m\u001b[0m\u001b[0m\n",
       "\u001b[0;31mSource:\u001b[0m        \n",
       "\u001b[0;32mclass\u001b[0m \u001b[0mURLs\u001b[0m\u001b[0;34m(\u001b[0m\u001b[0;34m)\u001b[0m\u001b[0;34m:\u001b[0m\u001b[0;34m\u001b[0m\n",
       "\u001b[0;34m\u001b[0m    \u001b[0;34m\"Global constants for dataset and model URLs.\"\u001b[0m\u001b[0;34m\u001b[0m\n",
       "\u001b[0;34m\u001b[0m    \u001b[0mLOCAL_PATH\u001b[0m \u001b[0;34m=\u001b[0m \u001b[0mPath\u001b[0m\u001b[0;34m.\u001b[0m\u001b[0mcwd\u001b[0m\u001b[0;34m(\u001b[0m\u001b[0;34m)\u001b[0m\u001b[0;34m\u001b[0m\n",
       "\u001b[0;34m\u001b[0m    \u001b[0mMDL\u001b[0m \u001b[0;34m=\u001b[0m \u001b[0;34m'http://files.fast.ai/models/'\u001b[0m\u001b[0;34m\u001b[0m\n",
       "\u001b[0;34m\u001b[0m    \u001b[0mS3\u001b[0m  \u001b[0;34m=\u001b[0m \u001b[0;34m'https://s3.amazonaws.com/fast-ai-'\u001b[0m\u001b[0;34m\u001b[0m\n",
       "\u001b[0;34m\u001b[0m    \u001b[0mURL\u001b[0m \u001b[0;34m=\u001b[0m \u001b[0;34mf'{S3}sample/'\u001b[0m\u001b[0;34m\u001b[0m\n",
       "\u001b[0;34m\u001b[0m\u001b[0;34m\u001b[0m\n",
       "\u001b[0;34m\u001b[0m    \u001b[0mS3_IMAGE\u001b[0m    \u001b[0;34m=\u001b[0m \u001b[0;34mf'{S3}imageclas/'\u001b[0m\u001b[0;34m\u001b[0m\n",
       "\u001b[0;34m\u001b[0m    \u001b[0mS3_IMAGELOC\u001b[0m \u001b[0;34m=\u001b[0m \u001b[0;34mf'{S3}imagelocal/'\u001b[0m\u001b[0;34m\u001b[0m\n",
       "\u001b[0;34m\u001b[0m    \u001b[0mS3_AUDI\u001b[0m     \u001b[0;34m=\u001b[0m \u001b[0;34mf'{S3}audio/'\u001b[0m\u001b[0;34m\u001b[0m\n",
       "\u001b[0;34m\u001b[0m    \u001b[0mS3_NLP\u001b[0m      \u001b[0;34m=\u001b[0m \u001b[0;34mf'{S3}nlp/'\u001b[0m\u001b[0;34m\u001b[0m\n",
       "\u001b[0;34m\u001b[0m    \u001b[0mS3_COCO\u001b[0m     \u001b[0;34m=\u001b[0m \u001b[0;34mf'{S3}coco/'\u001b[0m\u001b[0;34m\u001b[0m\n",
       "\u001b[0;34m\u001b[0m    \u001b[0mS3_MODEL\u001b[0m    \u001b[0;34m=\u001b[0m \u001b[0;34mf'{S3}modelzoo/'\u001b[0m\u001b[0;34m\u001b[0m\n",
       "\u001b[0;34m\u001b[0m\u001b[0;34m\u001b[0m\n",
       "\u001b[0;34m\u001b[0m    \u001b[0;31m# main datasets\u001b[0m\u001b[0;34m\u001b[0m\n",
       "\u001b[0;34m\u001b[0m    \u001b[0mADULT_SAMPLE\u001b[0m        \u001b[0;34m=\u001b[0m \u001b[0;34mf'{URL}adult_sample.tgz'\u001b[0m\u001b[0;34m\u001b[0m\n",
       "\u001b[0;34m\u001b[0m    \u001b[0mBIWI_SAMPLE\u001b[0m         \u001b[0;34m=\u001b[0m \u001b[0;34mf'{URL}biwi_sample.tgz'\u001b[0m\u001b[0;34m\u001b[0m\n",
       "\u001b[0;34m\u001b[0m    \u001b[0mCIFAR\u001b[0m               \u001b[0;34m=\u001b[0m \u001b[0;34mf'{URL}cifar10.tgz'\u001b[0m\u001b[0;34m\u001b[0m\n",
       "\u001b[0;34m\u001b[0m    \u001b[0mCOCO_SAMPLE\u001b[0m         \u001b[0;34m=\u001b[0m \u001b[0;34mf'{S3_COCO}coco_sample.tgz'\u001b[0m\u001b[0;34m\u001b[0m\n",
       "\u001b[0;34m\u001b[0m    \u001b[0mCOCO_TINY\u001b[0m           \u001b[0;34m=\u001b[0m \u001b[0;34mf'{S3_COCO}coco_tiny.tgz'\u001b[0m\u001b[0;34m\u001b[0m\n",
       "\u001b[0;34m\u001b[0m    \u001b[0mHUMAN_NUMBERS\u001b[0m       \u001b[0;34m=\u001b[0m \u001b[0;34mf'{URL}human_numbers.tgz'\u001b[0m\u001b[0;34m\u001b[0m\n",
       "\u001b[0;34m\u001b[0m    \u001b[0mIMDB\u001b[0m                \u001b[0;34m=\u001b[0m \u001b[0;34mf'{S3_NLP}imdb.tgz'\u001b[0m\u001b[0;34m\u001b[0m\n",
       "\u001b[0;34m\u001b[0m    \u001b[0mIMDB_SAMPLE\u001b[0m         \u001b[0;34m=\u001b[0m \u001b[0;34mf'{URL}imdb_sample.tgz'\u001b[0m\u001b[0;34m\u001b[0m\n",
       "\u001b[0;34m\u001b[0m    \u001b[0mML_SAMPLE\u001b[0m           \u001b[0;34m=\u001b[0m \u001b[0;34mf'{URL}movie_lens_sample.tgz'\u001b[0m\u001b[0;34m\u001b[0m\n",
       "\u001b[0;34m\u001b[0m    \u001b[0mML_100k\u001b[0m             \u001b[0;34m=\u001b[0m \u001b[0;34m'http://files.grouplens.org/datasets/movielens/ml-100k.zip'\u001b[0m\u001b[0;34m\u001b[0m\n",
       "\u001b[0;34m\u001b[0m    \u001b[0mMNIST_SAMPLE\u001b[0m        \u001b[0;34m=\u001b[0m \u001b[0;34mf'{URL}mnist_sample.tgz'\u001b[0m\u001b[0;34m\u001b[0m\n",
       "\u001b[0;34m\u001b[0m    \u001b[0mMNIST_TINY\u001b[0m          \u001b[0;34m=\u001b[0m \u001b[0;34mf'{URL}mnist_tiny.tgz'\u001b[0m\u001b[0;34m\u001b[0m\n",
       "\u001b[0;34m\u001b[0m    \u001b[0mMNIST_VAR_SIZE_TINY\u001b[0m \u001b[0;34m=\u001b[0m \u001b[0;34mf'{S3_IMAGE}mnist_var_size_tiny.tgz'\u001b[0m\u001b[0;34m\u001b[0m\n",
       "\u001b[0;34m\u001b[0m    \u001b[0mPLANET_SAMPLE\u001b[0m       \u001b[0;34m=\u001b[0m \u001b[0;34mf'{URL}planet_sample.tgz'\u001b[0m\u001b[0;34m\u001b[0m\n",
       "\u001b[0;34m\u001b[0m    \u001b[0mPLANET_TINY\u001b[0m         \u001b[0;34m=\u001b[0m \u001b[0;34mf'{URL}planet_tiny.tgz'\u001b[0m\u001b[0;34m\u001b[0m\n",
       "\u001b[0;34m\u001b[0m    \u001b[0mIMAGENETTE\u001b[0m          \u001b[0;34m=\u001b[0m \u001b[0;34mf'{S3_IMAGE}imagenette2.tgz'\u001b[0m\u001b[0;34m\u001b[0m\n",
       "\u001b[0;34m\u001b[0m    \u001b[0mIMAGENETTE_160\u001b[0m      \u001b[0;34m=\u001b[0m \u001b[0;34mf'{S3_IMAGE}imagenette2-160.tgz'\u001b[0m\u001b[0;34m\u001b[0m\n",
       "\u001b[0;34m\u001b[0m    \u001b[0mIMAGENETTE_320\u001b[0m      \u001b[0;34m=\u001b[0m \u001b[0;34mf'{S3_IMAGE}imagenette2-320.tgz'\u001b[0m\u001b[0;34m\u001b[0m\n",
       "\u001b[0;34m\u001b[0m    \u001b[0mIMAGEWOOF\u001b[0m           \u001b[0;34m=\u001b[0m \u001b[0;34mf'{S3_IMAGE}imagewoof2.tgz'\u001b[0m\u001b[0;34m\u001b[0m\n",
       "\u001b[0;34m\u001b[0m    \u001b[0mIMAGEWOOF_160\u001b[0m       \u001b[0;34m=\u001b[0m \u001b[0;34mf'{S3_IMAGE}imagewoof2-160.tgz'\u001b[0m\u001b[0;34m\u001b[0m\n",
       "\u001b[0;34m\u001b[0m    \u001b[0mIMAGEWOOF_320\u001b[0m       \u001b[0;34m=\u001b[0m \u001b[0;34mf'{S3_IMAGE}imagewoof2-320.tgz'\u001b[0m\u001b[0;34m\u001b[0m\n",
       "\u001b[0;34m\u001b[0m    \u001b[0mIMAGEWANG\u001b[0m           \u001b[0;34m=\u001b[0m \u001b[0;34mf'{S3_IMAGE}imagewang.tgz'\u001b[0m\u001b[0;34m\u001b[0m\n",
       "\u001b[0;34m\u001b[0m    \u001b[0mIMAGEWANG_160\u001b[0m       \u001b[0;34m=\u001b[0m \u001b[0;34mf'{S3_IMAGE}imagewang-160.tgz'\u001b[0m\u001b[0;34m\u001b[0m\n",
       "\u001b[0;34m\u001b[0m    \u001b[0mIMAGEWANG_320\u001b[0m       \u001b[0;34m=\u001b[0m \u001b[0;34mf'{S3_IMAGE}imagewang-320.tgz'\u001b[0m\u001b[0;34m\u001b[0m\n",
       "\u001b[0;34m\u001b[0m\u001b[0;34m\u001b[0m\n",
       "\u001b[0;34m\u001b[0m    \u001b[0;31m# kaggle competitions download dogs-vs-cats -p {DOGS.absolute()}\u001b[0m\u001b[0;34m\u001b[0m\n",
       "\u001b[0;34m\u001b[0m    \u001b[0mDOGS\u001b[0m \u001b[0;34m=\u001b[0m \u001b[0;34mf'{URL}dogscats.tgz'\u001b[0m\u001b[0;34m\u001b[0m\n",
       "\u001b[0;34m\u001b[0m\u001b[0;34m\u001b[0m\n",
       "\u001b[0;34m\u001b[0m    \u001b[0;31m# image classification datasets\u001b[0m\u001b[0;34m\u001b[0m\n",
       "\u001b[0;34m\u001b[0m    \u001b[0mCALTECH_101\u001b[0m  \u001b[0;34m=\u001b[0m \u001b[0;34mf'{S3_IMAGE}caltech_101.tgz'\u001b[0m\u001b[0;34m\u001b[0m\n",
       "\u001b[0;34m\u001b[0m    \u001b[0mCARS\u001b[0m         \u001b[0;34m=\u001b[0m \u001b[0;34mf'{S3_IMAGE}stanford-cars.tgz'\u001b[0m\u001b[0;34m\u001b[0m\n",
       "\u001b[0;34m\u001b[0m    \u001b[0mCIFAR_100\u001b[0m    \u001b[0;34m=\u001b[0m \u001b[0;34mf'{S3_IMAGE}cifar100.tgz'\u001b[0m\u001b[0;34m\u001b[0m\n",
       "\u001b[0;34m\u001b[0m    \u001b[0mCUB_200_2011\u001b[0m \u001b[0;34m=\u001b[0m \u001b[0;34mf'{S3_IMAGE}CUB_200_2011.tgz'\u001b[0m\u001b[0;34m\u001b[0m\n",
       "\u001b[0;34m\u001b[0m    \u001b[0mFLOWERS\u001b[0m      \u001b[0;34m=\u001b[0m \u001b[0;34mf'{S3_IMAGE}oxford-102-flowers.tgz'\u001b[0m\u001b[0;34m\u001b[0m\n",
       "\u001b[0;34m\u001b[0m    \u001b[0mFOOD\u001b[0m         \u001b[0;34m=\u001b[0m \u001b[0;34mf'{S3_IMAGE}food-101.tgz'\u001b[0m\u001b[0;34m\u001b[0m\n",
       "\u001b[0;34m\u001b[0m    \u001b[0mMNIST\u001b[0m        \u001b[0;34m=\u001b[0m \u001b[0;34mf'{S3_IMAGE}mnist_png.tgz'\u001b[0m\u001b[0;34m\u001b[0m\n",
       "\u001b[0;34m\u001b[0m    \u001b[0mPETS\u001b[0m         \u001b[0;34m=\u001b[0m \u001b[0;34mf'{S3_IMAGE}oxford-iiit-pet.tgz'\u001b[0m\u001b[0;34m\u001b[0m\n",
       "\u001b[0;34m\u001b[0m\u001b[0;34m\u001b[0m\n",
       "\u001b[0;34m\u001b[0m    \u001b[0;31m# NLP datasets\u001b[0m\u001b[0;34m\u001b[0m\n",
       "\u001b[0;34m\u001b[0m    \u001b[0mAG_NEWS\u001b[0m                 \u001b[0;34m=\u001b[0m \u001b[0;34mf'{S3_NLP}ag_news_csv.tgz'\u001b[0m\u001b[0;34m\u001b[0m\n",
       "\u001b[0;34m\u001b[0m    \u001b[0mAMAZON_REVIEWS\u001b[0m          \u001b[0;34m=\u001b[0m \u001b[0;34mf'{S3_NLP}amazon_review_full_csv.tgz'\u001b[0m\u001b[0;34m\u001b[0m\n",
       "\u001b[0;34m\u001b[0m    \u001b[0mAMAZON_REVIEWS_POLARITY\u001b[0m \u001b[0;34m=\u001b[0m \u001b[0;34mf'{S3_NLP}amazon_review_polarity_csv.tgz'\u001b[0m\u001b[0;34m\u001b[0m\n",
       "\u001b[0;34m\u001b[0m    \u001b[0mDBPEDIA\u001b[0m                 \u001b[0;34m=\u001b[0m \u001b[0;34mf'{S3_NLP}dbpedia_csv.tgz'\u001b[0m\u001b[0;34m\u001b[0m\n",
       "\u001b[0;34m\u001b[0m    \u001b[0mMT_ENG_FRA\u001b[0m              \u001b[0;34m=\u001b[0m \u001b[0;34mf'{S3_NLP}giga-fren.tgz'\u001b[0m\u001b[0;34m\u001b[0m\n",
       "\u001b[0;34m\u001b[0m    \u001b[0mSOGOU_NEWS\u001b[0m              \u001b[0;34m=\u001b[0m \u001b[0;34mf'{S3_NLP}sogou_news_csv.tgz'\u001b[0m\u001b[0;34m\u001b[0m\n",
       "\u001b[0;34m\u001b[0m    \u001b[0mWIKITEXT\u001b[0m                \u001b[0;34m=\u001b[0m \u001b[0;34mf'{S3_NLP}wikitext-103.tgz'\u001b[0m\u001b[0;34m\u001b[0m\n",
       "\u001b[0;34m\u001b[0m    \u001b[0mWIKITEXT_TINY\u001b[0m           \u001b[0;34m=\u001b[0m \u001b[0;34mf'{S3_NLP}wikitext-2.tgz'\u001b[0m\u001b[0;34m\u001b[0m\n",
       "\u001b[0;34m\u001b[0m    \u001b[0mYAHOO_ANSWERS\u001b[0m           \u001b[0;34m=\u001b[0m \u001b[0;34mf'{S3_NLP}yahoo_answers_csv.tgz'\u001b[0m\u001b[0;34m\u001b[0m\n",
       "\u001b[0;34m\u001b[0m    \u001b[0mYELP_REVIEWS\u001b[0m            \u001b[0;34m=\u001b[0m \u001b[0;34mf'{S3_NLP}yelp_review_full_csv.tgz'\u001b[0m\u001b[0;34m\u001b[0m\n",
       "\u001b[0;34m\u001b[0m    \u001b[0mYELP_REVIEWS_POLARITY\u001b[0m   \u001b[0;34m=\u001b[0m \u001b[0;34mf'{S3_NLP}yelp_review_polarity_csv.tgz'\u001b[0m\u001b[0;34m\u001b[0m\n",
       "\u001b[0;34m\u001b[0m\u001b[0;34m\u001b[0m\n",
       "\u001b[0;34m\u001b[0m    \u001b[0;31m# Image localization datasets\u001b[0m\u001b[0;34m\u001b[0m\n",
       "\u001b[0;34m\u001b[0m    \u001b[0mBIWI_HEAD_POSE\u001b[0m     \u001b[0;34m=\u001b[0m \u001b[0;34mf\"{S3_IMAGELOC}biwi_head_pose.tgz\"\u001b[0m\u001b[0;34m\u001b[0m\n",
       "\u001b[0;34m\u001b[0m    \u001b[0mCAMVID\u001b[0m             \u001b[0;34m=\u001b[0m \u001b[0;34mf'{S3_IMAGELOC}camvid.tgz'\u001b[0m\u001b[0;34m\u001b[0m\n",
       "\u001b[0;34m\u001b[0m    \u001b[0mCAMVID_TINY\u001b[0m        \u001b[0;34m=\u001b[0m \u001b[0;34mf'{URL}camvid_tiny.tgz'\u001b[0m\u001b[0;34m\u001b[0m\n",
       "\u001b[0;34m\u001b[0m    \u001b[0mLSUN_BEDROOMS\u001b[0m      \u001b[0;34m=\u001b[0m \u001b[0;34mf'{S3_IMAGE}bedroom.tgz'\u001b[0m\u001b[0;34m\u001b[0m\n",
       "\u001b[0;34m\u001b[0m    \u001b[0mPASCAL_2007\u001b[0m        \u001b[0;34m=\u001b[0m \u001b[0;34mf'{S3_IMAGELOC}pascal_2007.tgz'\u001b[0m\u001b[0;34m\u001b[0m\n",
       "\u001b[0;34m\u001b[0m    \u001b[0mPASCAL_2012\u001b[0m        \u001b[0;34m=\u001b[0m \u001b[0;34mf'{S3_IMAGELOC}pascal_2012.tgz'\u001b[0m\u001b[0;34m\u001b[0m\n",
       "\u001b[0;34m\u001b[0m\u001b[0;34m\u001b[0m\n",
       "\u001b[0;34m\u001b[0m    \u001b[0;31m# Audio classification datasets\u001b[0m\u001b[0;34m\u001b[0m\n",
       "\u001b[0;34m\u001b[0m    \u001b[0mMACAQUES\u001b[0m           \u001b[0;34m=\u001b[0m \u001b[0;34m'https://storage.googleapis.com/ml-animal-sounds-datasets/macaques.zip'\u001b[0m\u001b[0;34m\u001b[0m\n",
       "\u001b[0;34m\u001b[0m    \u001b[0mZEBRA_FINCH\u001b[0m        \u001b[0;34m=\u001b[0m \u001b[0;34m'https://storage.googleapis.com/ml-animal-sounds-datasets/zebra_finch.zip'\u001b[0m\u001b[0;34m\u001b[0m\n",
       "\u001b[0;34m\u001b[0m\u001b[0;34m\u001b[0m\n",
       "\u001b[0;34m\u001b[0m    \u001b[0;31m# Medical Imaging datasets\u001b[0m\u001b[0;34m\u001b[0m\n",
       "\u001b[0;34m\u001b[0m    \u001b[0;31m#SKIN_LESION        = f'{S3_IMAGELOC}skin_lesion.tgz'\u001b[0m\u001b[0;34m\u001b[0m\n",
       "\u001b[0;34m\u001b[0m    \u001b[0mSIIM_SMALL\u001b[0m         \u001b[0;34m=\u001b[0m \u001b[0;34mf'{S3_IMAGELOC}siim_small.tgz'\u001b[0m\u001b[0;34m\u001b[0m\n",
       "\u001b[0;34m\u001b[0m    \u001b[0mTCGA_SMALL\u001b[0m         \u001b[0;34m=\u001b[0m \u001b[0;34mf'{S3_IMAGELOC}tcga_small.tgz'\u001b[0m\u001b[0;34m\u001b[0m\n",
       "\u001b[0;34m\u001b[0m\u001b[0;34m\u001b[0m\n",
       "\u001b[0;34m\u001b[0m    \u001b[0;31m#Pretrained models\u001b[0m\u001b[0;34m\u001b[0m\n",
       "\u001b[0;34m\u001b[0m    \u001b[0mOPENAI_TRANSFORMER\u001b[0m \u001b[0;34m=\u001b[0m \u001b[0;34mf'{S3_MODEL}transformer.tgz'\u001b[0m\u001b[0;34m\u001b[0m\n",
       "\u001b[0;34m\u001b[0m    \u001b[0mWT103_FWD\u001b[0m          \u001b[0;34m=\u001b[0m \u001b[0;34mf'{S3_MODEL}wt103-fwd.tgz'\u001b[0m\u001b[0;34m\u001b[0m\n",
       "\u001b[0;34m\u001b[0m    \u001b[0mWT103_BWD\u001b[0m          \u001b[0;34m=\u001b[0m \u001b[0;34mf'{S3_MODEL}wt103-bwd.tgz'\u001b[0m\u001b[0;34m\u001b[0m\n",
       "\u001b[0;34m\u001b[0m\u001b[0;34m\u001b[0m\n",
       "\u001b[0;34m\u001b[0m    \u001b[0;32mdef\u001b[0m \u001b[0mpath\u001b[0m\u001b[0;34m(\u001b[0m\u001b[0murl\u001b[0m\u001b[0;34m=\u001b[0m\u001b[0;34m'.'\u001b[0m\u001b[0;34m,\u001b[0m \u001b[0mc_key\u001b[0m\u001b[0;34m=\u001b[0m\u001b[0;34m'archive'\u001b[0m\u001b[0;34m)\u001b[0m\u001b[0;34m:\u001b[0m\u001b[0;34m\u001b[0m\n",
       "\u001b[0;34m\u001b[0m        \u001b[0;34m\"Return local path where to download based on `c_key`\"\u001b[0m\u001b[0;34m\u001b[0m\n",
       "\u001b[0;34m\u001b[0m        \u001b[0mfname\u001b[0m \u001b[0;34m=\u001b[0m \u001b[0murl\u001b[0m\u001b[0;34m.\u001b[0m\u001b[0msplit\u001b[0m\u001b[0;34m(\u001b[0m\u001b[0;34m'/'\u001b[0m\u001b[0;34m)\u001b[0m\u001b[0;34m[\u001b[0m\u001b[0;34m-\u001b[0m\u001b[0;36m1\u001b[0m\u001b[0;34m]\u001b[0m\u001b[0;34m\u001b[0m\n",
       "\u001b[0;34m\u001b[0m        \u001b[0mlocal_path\u001b[0m \u001b[0;34m=\u001b[0m \u001b[0mURLs\u001b[0m\u001b[0;34m.\u001b[0m\u001b[0mLOCAL_PATH\u001b[0m\u001b[0;34m/\u001b[0m\u001b[0;34m(\u001b[0m\u001b[0;34m'models'\u001b[0m \u001b[0;32mif\u001b[0m \u001b[0mc_key\u001b[0m\u001b[0;34m==\u001b[0m\u001b[0;34m'models'\u001b[0m \u001b[0;32melse\u001b[0m \u001b[0;34m'data'\u001b[0m\u001b[0;34m)\u001b[0m\u001b[0;34m/\u001b[0m\u001b[0mfname\u001b[0m\u001b[0;34m\u001b[0m\n",
       "\u001b[0;34m\u001b[0m        \u001b[0;32mif\u001b[0m \u001b[0mlocal_path\u001b[0m\u001b[0;34m.\u001b[0m\u001b[0mexists\u001b[0m\u001b[0;34m(\u001b[0m\u001b[0;34m)\u001b[0m\u001b[0;34m:\u001b[0m \u001b[0;32mreturn\u001b[0m \u001b[0mlocal_path\u001b[0m\u001b[0;34m\u001b[0m\n",
       "\u001b[0;34m\u001b[0m        \u001b[0;32mreturn\u001b[0m \u001b[0mConfig\u001b[0m\u001b[0;34m(\u001b[0m\u001b[0;34m)\u001b[0m\u001b[0;34m[\u001b[0m\u001b[0mc_key\u001b[0m\u001b[0;34m]\u001b[0m\u001b[0;34m/\u001b[0m\u001b[0mfname\u001b[0m\u001b[0;34m\u001b[0m\u001b[0;34m\u001b[0m\u001b[0m\n",
       "\u001b[0;31mFile:\u001b[0m           /opt/conda/lib/python3.8/site-packages/fastai/data/external.py\n",
       "\u001b[0;31mType:\u001b[0m           type\n",
       "\u001b[0;31mSubclasses:\u001b[0m     \n"
      ]
     },
     "metadata": {},
     "output_type": "display_data"
    }
   ],
   "source": [
    "??URLs"
   ]
  },
  {
   "cell_type": "code",
   "execution_count": null,
   "id": "59741d90-fe82-45c6-8c24-d95cd5a1ccc4",
   "metadata": {},
   "outputs": [],
   "source": []
  }
 ],
 "metadata": {
  "kernelspec": {
   "display_name": "Python 3 (ipykernel)",
   "language": "python",
   "name": "python3"
  },
  "language_info": {
   "codemirror_mode": {
    "name": "ipython",
    "version": 3
   },
   "file_extension": ".py",
   "mimetype": "text/x-python",
   "name": "python",
   "nbconvert_exporter": "python",
   "pygments_lexer": "ipython3",
   "version": "3.8.12"
  }
 },
 "nbformat": 4,
 "nbformat_minor": 5
}
